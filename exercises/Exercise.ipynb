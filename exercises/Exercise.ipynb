{
 "cells": [
  {
   "cell_type": "code",
   "execution_count": 1,
   "id": "3c70be01-f01e-4ecc-97b4-4a62ea36091c",
   "metadata": {},
   "outputs": [],
   "source": [
    "def print_name_func(name):\n",
    "    '''\n",
    "    Print the name in the argument\n",
    "    '''\n",
    "\n",
    "    print(f\"Hello {name}\")\n",
    "    "
   ]
  },
  {
   "cell_type": "code",
   "execution_count": 3,
   "id": "1c68d9f2-2cb6-4b35-adce-6e755c1e8c39",
   "metadata": {},
   "outputs": [
    {
     "name": "stdout",
     "output_type": "stream",
     "text": [
      "Hello Nelson\n"
     ]
    }
   ],
   "source": [
    "print_name_func('Nelson')"
   ]
  },
  {
   "cell_type": "code",
   "execution_count": 10,
   "id": "1bb6dbe5-a30e-482c-ba13-dfc44ac6fa8c",
   "metadata": {},
   "outputs": [
    {
     "name": "stdout",
     "output_type": "stream",
     "text": [
      "1.0\n"
     ]
    }
   ],
   "source": [
    "import math\n",
    "print(math.sqrt(1))"
   ]
  },
  {
   "cell_type": "code",
   "execution_count": 12,
   "id": "cbd76fff-fd2b-40c7-b39e-8cf0d58b6684",
   "metadata": {},
   "outputs": [],
   "source": [
    "def check_even_list(mylist):\n",
    "    mylistnew = []\n",
    "    for num in mylist:\n",
    "        if num % 2 == 0:\n",
    "            mylistnew.append(num)\n",
    "        else:\n",
    "            pass\n",
    "\n",
    "    print(mylistnew)"
   ]
  },
  {
   "cell_type": "code",
   "execution_count": 13,
   "id": "c89113f3-a3f1-4736-a616-d0d449cd44a3",
   "metadata": {},
   "outputs": [
    {
     "name": "stdout",
     "output_type": "stream",
     "text": [
      "[2, 4, 6]\n"
     ]
    }
   ],
   "source": [
    "check_even_list([1,2,3,4,5,6])"
   ]
  },
  {
   "cell_type": "code",
   "execution_count": 21,
   "id": "ae7adbe0-3a70-4fed-915e-3aa66a14f1ca",
   "metadata": {},
   "outputs": [],
   "source": [
    "def check_palindrome(instring):\n",
    "    instring_rev = instring[::-1]\n",
    "    if instring.lower() == instring_rev.lower():\n",
    "        print(f\"String {instring} is a palindrome!\")\n",
    "    else:\n",
    "        print(f\"String {instring} is not a palindrome!\")"
   ]
  },
  {
   "cell_type": "code",
   "execution_count": 25,
   "id": "3faa8ec3-bb57-42c0-bece-255e59f9fd85",
   "metadata": {},
   "outputs": [
    {
     "name": "stdout",
     "output_type": "stream",
     "text": [
      "String 131 is a palindrome!\n"
     ]
    }
   ],
   "source": [
    "check_palindrome('131')"
   ]
  },
  {
   "cell_type": "code",
   "execution_count": null,
   "id": "23b30c43-7f29-4be9-8c93-e26a268f98c2",
   "metadata": {},
   "outputs": [],
   "source": []
  },
  {
   "cell_type": "code",
   "execution_count": null,
   "id": "d0b439f6-2aaf-4532-955c-eed4dbbc0c35",
   "metadata": {},
   "outputs": [],
   "source": []
  },
  {
   "cell_type": "code",
   "execution_count": 33,
   "id": "2a55aabb-2517-45e1-a4e5-3620452c2173",
   "metadata": {},
   "outputs": [],
   "source": [
    "def alt_case_play(instring):\n",
    "    counter = 0\n",
    "    instring_new = ''\n",
    "    for letter in instring:\n",
    "        if counter % 2 == 0:\n",
    "            instring_new += instring[counter].upper()\n",
    "            counter = counter + 1\n",
    "        else:\n",
    "            instring_new += instring[counter].lower()\n",
    "            counter = counter + 1\n",
    "\n",
    "    print(instring_new)"
   ]
  },
  {
   "cell_type": "code",
   "execution_count": 34,
   "id": "9881a76c-e232-4691-905b-d16f63dd6d44",
   "metadata": {},
   "outputs": [
    {
     "name": "stdout",
     "output_type": "stream",
     "text": [
      "NeLsOn\n"
     ]
    }
   ],
   "source": [
    "alt_case_play('Nelson')"
   ]
  },
  {
   "cell_type": "code",
   "execution_count": null,
   "id": "44541393-ba20-4ac2-8679-5db3b8e004c3",
   "metadata": {},
   "outputs": [],
   "source": []
  },
  {
   "cell_type": "code",
   "execution_count": null,
   "id": "7f784205-83df-4612-8e36-e4c01bb467b2",
   "metadata": {},
   "outputs": [],
   "source": []
  },
  {
   "cell_type": "code",
   "execution_count": 40,
   "id": "3523ca68-8ea0-4c55-92b8-3b0f3dca6212",
   "metadata": {},
   "outputs": [
    {
     "data": {
      "text/plain": [
       "\"\\nWrite a Python function that accepts a string and calculates the number of upper case letters and lower case letters.**\\n\\n    Sample String : 'Hello Mr. Rogers, how are you this fine Tuesday?'\\n    Expected Output : \\n    No. of Upper case characters : 4\\n    No. of Lower case Characters : 33\\n\\nIf you feel ambitious, explore the Collections module to solve this problem!\\n\""
      ]
     },
     "execution_count": 40,
     "metadata": {},
     "output_type": "execute_result"
    }
   ],
   "source": [
    "\"\"\"\n",
    "Write a Python function that accepts a string and calculates the number of upper case letters and lower case letters.**\n",
    "\n",
    "    Sample String : 'Hello Mr. Rogers, how are you this fine Tuesday?'\n",
    "    Expected Output : \n",
    "    No. of Upper case characters : 4\n",
    "    No. of Lower case Characters : 33\n",
    "\n",
    "If you feel ambitious, explore the Collections module to solve this problem!\n",
    "\"\"\""
   ]
  },
  {
   "cell_type": "code",
   "execution_count": 46,
   "id": "f659ab38-f8ad-4b32-b870-b8d323eeec99",
   "metadata": {},
   "outputs": [],
   "source": [
    "def count_case(sentence):\n",
    "    ucount = 0\n",
    "    lcount = 0\n",
    "    for letter in sentence:\n",
    "        if letter.isupper():\n",
    "            ucount += 1\n",
    "        elif letter.islower():\n",
    "            lcount += 1\n",
    "        else:\n",
    "            pass\n",
    "\n",
    "    print(f\"The no. of upper case characters is {ucount}.\")\n",
    "    print(f\"The no. of lower case characters is {lcount}.\")\n",
    "          \n",
    "        "
   ]
  },
  {
   "cell_type": "code",
   "execution_count": 47,
   "id": "7e4e600a-d9b9-44e4-8a51-68884f1ed527",
   "metadata": {},
   "outputs": [
    {
     "name": "stdout",
     "output_type": "stream",
     "text": [
      "The no. of upper case characters is 1.\n",
      "The no. of lower case characters is 80.\n"
     ]
    }
   ],
   "source": [
    "count_case('I confirm goods or services have been received by validating through one or more of the following')"
   ]
  },
  {
   "cell_type": "code",
   "execution_count": null,
   "id": "87d326a0-a1ad-4834-b2e5-117019dbfe63",
   "metadata": {},
   "outputs": [],
   "source": []
  },
  {
   "cell_type": "code",
   "execution_count": null,
   "id": "e8c140c7-f1b5-47c3-908d-3b736f802cb7",
   "metadata": {},
   "outputs": [],
   "source": []
  },
  {
   "cell_type": "code",
   "execution_count": null,
   "id": "80086b97-d045-42f8-a610-eefb618181ac",
   "metadata": {},
   "outputs": [],
   "source": []
  },
  {
   "cell_type": "code",
   "execution_count": 48,
   "id": "237874af-f993-48a7-8ac4-381e3031e9e3",
   "metadata": {},
   "outputs": [
    {
     "data": {
      "text/plain": [
       "'Write a Python function that takes a list and returns a new list with unique elements of the first list.\\n\\nSample List : [1,1,1,1,2,2,3,3,3,3,4,5]\\nUnique List : [1, 2, 3, 4, 5]'"
      ]
     },
     "execution_count": 48,
     "metadata": {},
     "output_type": "execute_result"
    }
   ],
   "source": [
    "'''Write a Python function that takes a list and returns a new list with unique elements of the first list.\n",
    "\n",
    "Sample List : [1,1,1,1,2,2,3,3,3,3,4,5]\n",
    "Unique List : [1, 2, 3, 4, 5]'''"
   ]
  },
  {
   "cell_type": "code",
   "execution_count": 49,
   "id": "fed7c9ba-3b64-4a43-b802-f150120cee96",
   "metadata": {},
   "outputs": [],
   "source": [
    "def unique_list(mylist):\n",
    "    myset = set(mylist)\n",
    "    mynewlist = list(myset)\n",
    "\n",
    "    return mynewlist"
   ]
  },
  {
   "cell_type": "code",
   "execution_count": 50,
   "id": "8b1690b1-783a-4b9e-93e2-f2faa562ae85",
   "metadata": {},
   "outputs": [],
   "source": [
    "result = unique_list([1,1,1,1,2,2,3,3,3,3,4,5])"
   ]
  },
  {
   "cell_type": "code",
   "execution_count": 51,
   "id": "542e5149-890a-4c4e-91c4-3d7476f8f2e0",
   "metadata": {},
   "outputs": [
    {
     "data": {
      "text/plain": [
       "[1, 2, 3, 4, 5]"
      ]
     },
     "execution_count": 51,
     "metadata": {},
     "output_type": "execute_result"
    }
   ],
   "source": [
    "result"
   ]
  },
  {
   "cell_type": "code",
   "execution_count": 68,
   "id": "01513e55-d3c3-4238-8bfb-419fc3b4a2f6",
   "metadata": {},
   "outputs": [],
   "source": [
    "import string\n",
    "\n",
    "def check_pangram(instring, alphabet=string.ascii_lowercase):\n",
    "    myalphalist = list(alphabet.lower())\n",
    "    newlist = list(sorted(set(instring.replace(' ','').lower())))\n",
    "\n",
    "    if newlist == myalphalist:\n",
    "        print(f\"It is a pangram\")\n",
    "    else:\n",
    "        print(f\"It is not a pangram\")\n",
    "\n",
    "    "
   ]
  },
  {
   "cell_type": "code",
   "execution_count": 70,
   "id": "9eebe5af-1be5-4761-9c53-587574426226",
   "metadata": {},
   "outputs": [
    {
     "name": "stdout",
     "output_type": "stream",
     "text": [
      "It is not a pangram\n"
     ]
    }
   ],
   "source": [
    "check_pangram('The quick bron fox jumps over the lazy dog')"
   ]
  },
  {
   "cell_type": "code",
   "execution_count": null,
   "id": "6c67e9c9-7a91-4be3-b855-1e54c0b57518",
   "metadata": {},
   "outputs": [],
   "source": []
  },
  {
   "cell_type": "code",
   "execution_count": 71,
   "id": "20629545-fe55-4fbb-9fd5-e8f634778032",
   "metadata": {},
   "outputs": [
    {
     "data": {
      "text/plain": [
       "'\\nSPY GAME: Write a function that takes in a list of integers and returns True if it contains 007 in order\\n\\n spy_game([1,2,4,0,0,7,5]) --> True\\n spy_game([1,0,2,4,0,5,7]) --> True\\n spy_game([1,7,2,0,4,5,0]) --> False\\n '"
      ]
     },
     "execution_count": 71,
     "metadata": {},
     "output_type": "execute_result"
    }
   ],
   "source": [
    "'''\n",
    "SPY GAME: Write a function that takes in a list of integers and returns True if it contains 007 in order\n",
    "\n",
    " spy_game([1,2,4,0,0,7,5]) --> True\n",
    " spy_game([1,0,2,4,0,5,7]) --> True\n",
    " spy_game([1,7,2,0,4,5,0]) --> False\n",
    " '''"
   ]
  },
  {
   "cell_type": "code",
   "execution_count": 106,
   "id": "744c6400-0c2c-400a-a99c-4d6bd650641b",
   "metadata": {},
   "outputs": [],
   "source": [
    "def spy_game(mylist):\n",
    "    num = 2\n",
    "    while (num >=2 and num < len(mylist)):\n",
    "#        print(mylist[num])\n",
    "#        num += 1\n",
    "        newstr = str(mylist[num-2])+str(mylist[num-1])+str(mylist[num])\n",
    "        if newstr == '007':\n",
    "            return True\n",
    "        else:\n",
    "            num += 1\n",
    "            \n",
    "    "
   ]
  },
  {
   "cell_type": "code",
   "execution_count": 109,
   "id": "5f98c519-5095-4a43-ba71-0174605652e0",
   "metadata": {},
   "outputs": [
    {
     "name": "stdout",
     "output_type": "stream",
     "text": [
      "102\n",
      "024\n",
      "240\n",
      "405\n",
      "057\n"
     ]
    }
   ],
   "source": [
    "result = spy_game([1,0,2,4,0,5,7])"
   ]
  },
  {
   "cell_type": "code",
   "execution_count": 108,
   "id": "6fdc2267-ef79-4dbc-86d8-ec097f43f6d6",
   "metadata": {},
   "outputs": [
    {
     "data": {
      "text/plain": [
       "True"
      ]
     },
     "execution_count": 108,
     "metadata": {},
     "output_type": "execute_result"
    }
   ],
   "source": [
    "result"
   ]
  },
  {
   "cell_type": "code",
   "execution_count": 125,
   "id": "db1309fc-6043-495f-ac44-bb82a0b838dd",
   "metadata": {},
   "outputs": [],
   "source": [
    "def spy_game_2(mylist):\n",
    "    zeroctr = 0\n",
    "    sevenctr = 0\n",
    "    for num in mylist:\n",
    "        if num == 0:\n",
    "            zeroctr += 1\n",
    "        elif zeroctr == 2 and num == 7:\n",
    "            sevenctr += 1\n",
    "        else:\n",
    "            pass\n",
    "\n",
    "    if zeroctr == 2 and sevenctr == 1:\n",
    "        return True\n",
    "    else:\n",
    "        return False\n",
    "        \n",
    "        "
   ]
  },
  {
   "cell_type": "code",
   "execution_count": 123,
   "id": "c96438d6-7b67-4b3f-b7b3-29d3d147a60e",
   "metadata": {},
   "outputs": [],
   "source": [
    "result = spy_game_2([1,2,4,0,7,5])"
   ]
  },
  {
   "cell_type": "code",
   "execution_count": 124,
   "id": "51b17894-3066-45bf-8668-5bea0e5d0970",
   "metadata": {},
   "outputs": [
    {
     "data": {
      "text/plain": [
       "False"
      ]
     },
     "execution_count": 124,
     "metadata": {},
     "output_type": "execute_result"
    }
   ],
   "source": [
    "result"
   ]
  },
  {
   "cell_type": "code",
   "execution_count": 127,
   "id": "0d4f396e-06d6-4da7-bb9c-32fc69c61f72",
   "metadata": {},
   "outputs": [],
   "source": [
    "result = range(0,10)"
   ]
  },
  {
   "cell_type": "code",
   "execution_count": 128,
   "id": "25170da1-27d2-4f0f-a5c4-6caab313e941",
   "metadata": {},
   "outputs": [
    {
     "data": {
      "text/plain": [
       "range(0, 10)"
      ]
     },
     "execution_count": 128,
     "metadata": {},
     "output_type": "execute_result"
    }
   ],
   "source": [
    "result"
   ]
  },
  {
   "cell_type": "code",
   "execution_count": null,
   "id": "169fa24c-f291-4093-8f20-4481c2445497",
   "metadata": {},
   "outputs": [],
   "source": []
  }
 ],
 "metadata": {
  "kernelspec": {
   "display_name": "Python 3 (ipykernel)",
   "language": "python",
   "name": "python3"
  },
  "language_info": {
   "codemirror_mode": {
    "name": "ipython",
    "version": 3
   },
   "file_extension": ".py",
   "mimetype": "text/x-python",
   "name": "python",
   "nbconvert_exporter": "python",
   "pygments_lexer": "ipython3",
   "version": "3.11.13"
  }
 },
 "nbformat": 4,
 "nbformat_minor": 5
}
