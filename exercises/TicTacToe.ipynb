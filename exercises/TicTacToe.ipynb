{
 "cells": [
  {
   "cell_type": "markdown",
   "id": "933b21f2-e5ba-44db-9490-dd862222f35c",
   "metadata": {},
   "source": [
    "**Step 1: Write a function that can print out a board. Set up your board as a list, where each index 1-9 corresponds with a number on a number pad, so you get a 3 by 3 board representation.**"
   ]
  },
  {
   "cell_type": "code",
   "execution_count": null,
   "id": "2375c5b0-bbf0-42bd-9d67-b84add27d9f6",
   "metadata": {},
   "outputs": [],
   "source": [
    "from IPython.display import clear_output\n",
    "\n",
    "def display_board(board):\n",
    "\n",
    "    print(f\" {board[1]} | {board[2]} | {board[3]}\")\n",
    "    print(\" ---------\")\n",
    "    print(f\" {board[4]} | {board[5]} | {board[6]}\")\n",
    "    print(\" ---------\")\n",
    "    print(f\" {board[7]} | {board[8]} | {board[9]}\")\n"
   ]
  },
  {
   "cell_type": "code",
   "execution_count": null,
   "id": "f88baf71-ee2e-4955-86e4-2752afae6bf9",
   "metadata": {},
   "outputs": [],
   "source": [
    "myboard = ['#','1','2','3','4','5','6','7','8','9']\n",
    "display_board(myboard)"
   ]
  },
  {
   "cell_type": "code",
   "execution_count": null,
   "id": "55c81f38-5bb7-4cda-8070-7ccbf89c251d",
   "metadata": {},
   "outputs": [],
   "source": []
  },
  {
   "cell_type": "markdown",
   "id": "7452d4b9-0a07-4231-a851-2317f25de542",
   "metadata": {},
   "source": [
    "**Step 2: Write a function that can take in a player input and assign their marker as 'X' or 'O'. Think about using *while* loops to continually ask until you get a correct answer.**"
   ]
  },
  {
   "cell_type": "code",
   "execution_count": null,
   "id": "a1900bdb-283b-4fc0-b081-65b10514e931",
   "metadata": {},
   "outputs": [],
   "source": [
    "def player_input():\n",
    "\n",
    "    mark = input(\"Player 1 : Do you want to be 'x' or 'o' : \")\n",
    "\n",
    "    while mark.lower() not in ['x','o']:\n",
    "        mark = input(\"Invalid choice! Do you want to be 'x' or 'o' : \")\n",
    "\n",
    "    if mark.lower() == 'x':\n",
    "        print(\"\\n Player 1 is 'x' and Player 2 is 'o'\")\n",
    "        print(\"('x','o')\")\n",
    "        return ('x','o')\n",
    "    else:\n",
    "        print(\"\\n Player 1 is 'o' and Player 2 is 'x'\")\n",
    "        print(\"('o','x')\")\n",
    "        return ('o','x')\n",
    "        \n",
    "        "
   ]
  },
  {
   "cell_type": "code",
   "execution_count": null,
   "id": "19ceb7c3-2eac-4e05-ad34-903273bc515e",
   "metadata": {},
   "outputs": [],
   "source": [
    "a,b = player_input()"
   ]
  },
  {
   "cell_type": "code",
   "execution_count": null,
   "id": "f896ba0f-ecc2-4855-a224-109723a30c18",
   "metadata": {},
   "outputs": [],
   "source": []
  },
  {
   "cell_type": "markdown",
   "id": "d0cfe8e1-a46d-4d3e-9aa3-df238749b306",
   "metadata": {},
   "source": [
    "**Step 3: Write a function that takes in the board list object, a marker ('X' or 'O'), and a desired position (number 1-9) and assigns it to the board.**"
   ]
  },
  {
   "cell_type": "code",
   "execution_count": null,
   "id": "4b81c9f2-be48-49a8-97d8-6ecb9f59018f",
   "metadata": {},
   "outputs": [],
   "source": [
    "def place_marker(board, mark ,position):\n",
    "    num = int(position)\n",
    "    board[num] = mark\n",
    "\n",
    "    "
   ]
  },
  {
   "cell_type": "code",
   "execution_count": null,
   "id": "0d0f18b3-80b9-4ae9-87c3-8ff7be723826",
   "metadata": {},
   "outputs": [],
   "source": [
    "place_marker(myboard,'$',8)\n",
    "display_board(myboard)"
   ]
  },
  {
   "cell_type": "code",
   "execution_count": null,
   "id": "d752a384-1855-48da-9f28-84c374946366",
   "metadata": {},
   "outputs": [],
   "source": []
  },
  {
   "cell_type": "markdown",
   "id": "d0f87420-b5b0-46e5-bd30-b22857b32da5",
   "metadata": {},
   "source": [
    "**Step 4: Write a function that takes in a board and a mark (X or O) and then checks to see if that mark has won. **"
   ]
  },
  {
   "cell_type": "code",
   "execution_count": null,
   "id": "ded2a184-65ea-4593-9cc9-11bdeb95e4ee",
   "metadata": {},
   "outputs": [],
   "source": [
    "def win_check(board, mark):\n",
    "    if ((board[1] == mark and board[2] == mark and board[3] == mark) or \n",
    "    (board[1] == mark and board[4] == mark and board[7] == mark) or\n",
    "    (board[3] == mark and board[6] == mark and board[9] == mark) or\n",
    "    (board[7] == mark and board[8] == mark and board[9] == mark) or\n",
    "    (board[4] == mark and board[5] == mark and board[6] == mark) or\n",
    "    (board[1] == mark and board[5] == mark and board[9] == mark) or\n",
    "    (board[3] == mark and board[5] == mark and board[7] == mark)):\n",
    "        return True\n",
    "        "
   ]
  },
  {
   "cell_type": "code",
   "execution_count": null,
   "id": "b122be89-6f19-4f3d-8115-a6df26e3f9ad",
   "metadata": {},
   "outputs": [],
   "source": [
    "result = win_check(myboard,'x')"
   ]
  },
  {
   "cell_type": "code",
   "execution_count": null,
   "id": "cbd04f94-3d97-4c8d-bc9c-c069b3d82ff4",
   "metadata": {},
   "outputs": [],
   "source": [
    "result"
   ]
  },
  {
   "cell_type": "code",
   "execution_count": null,
   "id": "4272a2cd-2e75-4012-92f2-0650a540d103",
   "metadata": {},
   "outputs": [],
   "source": []
  },
  {
   "cell_type": "markdown",
   "id": "3c4664f1-330b-4ecd-815f-268d5af4f160",
   "metadata": {},
   "source": [
    "**Step 5: Write a function that uses the random module to randomly decide which player goes first. You may want to lookup random.randint() Return a string of which player went first.**"
   ]
  },
  {
   "cell_type": "code",
   "execution_count": null,
   "id": "7f37627a-83ce-4a7f-ae4c-574b3ca52cb0",
   "metadata": {},
   "outputs": [],
   "source": [
    "import random\n",
    "\n",
    "def choose_first():\n",
    "    if random.randint(0, 1) == 0:\n",
    "        return 'Player 2'\n",
    "    else:\n",
    "        return 'Player 1'"
   ]
  },
  {
   "cell_type": "code",
   "execution_count": null,
   "id": "a44e0659-028e-432c-8c39-2bffd761aa03",
   "metadata": {},
   "outputs": [],
   "source": []
  },
  {
   "cell_type": "markdown",
   "id": "2d32817f-865d-4490-9b1f-92af35350b2a",
   "metadata": {},
   "source": [
    "**Step 6: Write a function that returns a boolean indicating whether a space on the board is freely available.**"
   ]
  },
  {
   "cell_type": "code",
   "execution_count": null,
   "id": "abef93f4-300d-4ccc-bbfe-5fdec7067fe8",
   "metadata": {},
   "outputs": [],
   "source": [
    "def space_check(board, position):\n",
    "    num = int(position)\n",
    "    if board[num].lower() not in ['x', 'o']:\n",
    "        return True\n",
    "    else:\n",
    "        return False"
   ]
  },
  {
   "cell_type": "code",
   "execution_count": null,
   "id": "74b1d00c-fef8-4c2a-b764-21432c80076b",
   "metadata": {},
   "outputs": [],
   "source": []
  },
  {
   "cell_type": "markdown",
   "id": "0b05fa0b-0f03-4687-b3ac-ee7c65aa8f13",
   "metadata": {},
   "source": [
    "**Step 7: Write a function that checks if the board is full and returns a boolean value. True if full, False otherwise.**"
   ]
  },
  {
   "cell_type": "code",
   "execution_count": null,
   "id": "7afedcbe-0cf8-436d-9a00-043a50734a96",
   "metadata": {},
   "outputs": [],
   "source": [
    "def full_board_check(board):\n",
    "    for num in range(1,10):\n",
    "        if board[num].lower() not in ('x','o'):\n",
    "            return False\n",
    "\n",
    "    return True\n"
   ]
  },
  {
   "cell_type": "code",
   "execution_count": null,
   "id": "4f0570b2-e4f5-426b-bb86-7f28e0a7c4a4",
   "metadata": {},
   "outputs": [],
   "source": [
    "myboard = ['#','x','o','x','o','x','o','x','o','&']\n",
    "full_board_check(myboard)"
   ]
  },
  {
   "cell_type": "code",
   "execution_count": null,
   "id": "51fc49a0-fe2c-4235-9e3d-0479bd27505d",
   "metadata": {},
   "outputs": [],
   "source": []
  },
  {
   "cell_type": "markdown",
   "id": "03005d65-1a22-4f98-bd58-b0d824b92d59",
   "metadata": {},
   "source": [
    "**Step 8: Write a function that asks for a player's next position (as a number 1-9) and then uses the function from step 6 to check if it's a free position. If it is, then return the position for later use.**"
   ]
  },
  {
   "cell_type": "code",
   "execution_count": null,
   "id": "926e1e55-ec82-4689-9f99-b7797362ac31",
   "metadata": {},
   "outputs": [],
   "source": [
    "def player_choice(board):\n",
    "\n",
    "    choice = ' '\n",
    "    while choice not in ('1','2','3','4','5','6','7','8','9'):\n",
    "        choice = input(\"Please enter the next position for the mark (1-9) : \")\n",
    "\n",
    "    result = space_check(board, choice)\n",
    "\n",
    "    if result == True:\n",
    "        return int(choice)\n",
    "    "
   ]
  },
  {
   "cell_type": "code",
   "execution_count": null,
   "id": "b81987e1-507e-4bba-9e49-4ecc639aaf33",
   "metadata": {},
   "outputs": [],
   "source": []
  },
  {
   "cell_type": "markdown",
   "id": "ff699dea-7fb3-460f-81c6-75d8b1dc54a9",
   "metadata": {},
   "source": [
    "**Step 9: Write a function that asks the player if they want to play again and returns a boolean True if they do want to play again.**"
   ]
  },
  {
   "cell_type": "code",
   "execution_count": null,
   "id": "6f8238cc-8e71-4413-bc1e-972c45b9480e",
   "metadata": {},
   "outputs": [],
   "source": [
    "def replay():\n",
    "\n",
    "    gameon = ' '\n",
    "    while gameon not in ('y','n'):\n",
    "        gameon = input(\"Do you want to play again? Enter 'y' or 'n' : \")\n",
    "\n",
    "    if gameon.lower() == 'y':\n",
    "        return True\n",
    "    else:\n",
    "        return False"
   ]
  },
  {
   "cell_type": "code",
   "execution_count": null,
   "id": "c08dc141-af46-4959-8c40-2ed8e263e490",
   "metadata": {},
   "outputs": [],
   "source": []
  },
  {
   "cell_type": "markdown",
   "id": "b1f28a64-0492-4d5b-8c98-9d163130a378",
   "metadata": {},
   "source": [
    "**Step 10: Here comes the hard part! Use while loops and the functions you've made to run the game!**"
   ]
  },
  {
   "cell_type": "code",
   "execution_count": null,
   "id": "793a0626-a43f-4030-899b-133ed4f70a01",
   "metadata": {},
   "outputs": [],
   "source": [
    "print('Welcome to Tic Tac Toe!')\n",
    "\n",
    "while True:\n",
    "    # Reset the board\n",
    "    theBoard = [' '] * 10\n",
    "    player1_marker, player2_marker = player_input()\n",
    "    turn = choose_first()\n",
    "    print(turn + ' will go first.')\n",
    "    \n",
    "    play_game = input('Are you ready to play? Enter Yes or No.')\n",
    "    \n",
    "    if play_game.lower()[0] == 'y':\n",
    "        game_on = True\n",
    "    else:\n",
    "        game_on = False\n",
    "\n",
    "    while game_on:\n",
    "        if turn == 'Player 1':\n",
    "            # Player1's turn.\n",
    "            \n",
    "            display_board(theBoard)\n",
    "            position = player_choice(theBoard)\n",
    "            place_marker(theBoard, player1_marker, position)\n",
    "\n",
    "            if win_check(theBoard, player1_marker):\n",
    "                display_board(theBoard)\n",
    "                print('Congratulations! You have won the game!')\n",
    "                game_on = False\n",
    "            else:\n",
    "                if full_board_check(theBoard):\n",
    "                    display_board(theBoard)\n",
    "                    print('The game is a draw!')\n",
    "                    break\n",
    "                else:\n",
    "                    turn = 'Player 2'\n",
    "\n",
    "        else:\n",
    "            # Player2's turn.\n",
    "            \n",
    "            display_board(theBoard)\n",
    "            position = player_choice(theBoard)\n",
    "            place_marker(theBoard, player2_marker, position)\n",
    "\n",
    "            if win_check(theBoard, player2_marker):\n",
    "                display_board(theBoard)\n",
    "                print('Player 2 has won!')\n",
    "                game_on = False\n",
    "            else:\n",
    "                if full_board_check(theBoard):\n",
    "                    display_board(theBoard)\n",
    "                    print('The game is a draw!')\n",
    "                    break\n",
    "                else:\n",
    "                    turn = 'Player 1'\n",
    "\n",
    "    if not replay():\n",
    "        break"
   ]
  },
  {
   "cell_type": "code",
   "execution_count": null,
   "id": "403a5c2c-b5ad-4e85-b168-6ab6640fc33a",
   "metadata": {},
   "outputs": [],
   "source": []
  }
 ],
 "metadata": {
  "kernelspec": {
   "display_name": "Python 3 (ipykernel)",
   "language": "python",
   "name": "python3"
  },
  "language_info": {
   "codemirror_mode": {
    "name": "ipython",
    "version": 3
   },
   "file_extension": ".py",
   "mimetype": "text/x-python",
   "name": "python",
   "nbconvert_exporter": "python",
   "pygments_lexer": "ipython3",
   "version": "3.11.13"
  }
 },
 "nbformat": 4,
 "nbformat_minor": 5
}
