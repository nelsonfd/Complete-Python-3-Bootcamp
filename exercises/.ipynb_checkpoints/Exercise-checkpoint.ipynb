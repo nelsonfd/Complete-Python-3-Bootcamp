{
 "cells": [
  {
   "cell_type": "code",
   "execution_count": 1,
   "id": "3c70be01-f01e-4ecc-97b4-4a62ea36091c",
   "metadata": {},
   "outputs": [],
   "source": [
    "def print_name_func(name):\n",
    "    '''\n",
    "    Print the name in the argument\n",
    "    '''\n",
    "\n",
    "    print(f\"Hello {name}\")\n",
    "    "
   ]
  },
  {
   "cell_type": "code",
   "execution_count": 3,
   "id": "1c68d9f2-2cb6-4b35-adce-6e755c1e8c39",
   "metadata": {},
   "outputs": [
    {
     "name": "stdout",
     "output_type": "stream",
     "text": [
      "Hello Nelson\n"
     ]
    }
   ],
   "source": [
    "print_name_func('Nelson')"
   ]
  },
  {
   "cell_type": "code",
   "execution_count": 10,
   "id": "1bb6dbe5-a30e-482c-ba13-dfc44ac6fa8c",
   "metadata": {},
   "outputs": [
    {
     "name": "stdout",
     "output_type": "stream",
     "text": [
      "1.0\n"
     ]
    }
   ],
   "source": [
    "import math\n",
    "print(math.sqrt(1))"
   ]
  },
  {
   "cell_type": "code",
   "execution_count": 12,
   "id": "cbd76fff-fd2b-40c7-b39e-8cf0d58b6684",
   "metadata": {},
   "outputs": [],
   "source": [
    "def check_even_list(mylist):\n",
    "    mylistnew = []\n",
    "    for num in mylist:\n",
    "        if num % 2 == 0:\n",
    "            mylistnew.append(num)\n",
    "        else:\n",
    "            pass\n",
    "\n",
    "    print(mylistnew)"
   ]
  },
  {
   "cell_type": "code",
   "execution_count": null,
   "id": "c89113f3-a3f1-4736-a616-d0d449cd44a3",
   "metadata": {},
   "outputs": [],
   "source": [
    "check_even_list"
   ]
  }
 ],
 "metadata": {
  "kernelspec": {
   "display_name": "Python 3 (ipykernel)",
   "language": "python",
   "name": "python3"
  },
  "language_info": {
   "codemirror_mode": {
    "name": "ipython",
    "version": 3
   },
   "file_extension": ".py",
   "mimetype": "text/x-python",
   "name": "python",
   "nbconvert_exporter": "python",
   "pygments_lexer": "ipython3",
   "version": "3.11.13"
  }
 },
 "nbformat": 4,
 "nbformat_minor": 5
}
