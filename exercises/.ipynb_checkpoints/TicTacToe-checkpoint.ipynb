{
 "cells": [
  {
   "cell_type": "markdown",
   "id": "933b21f2-e5ba-44db-9490-dd862222f35c",
   "metadata": {},
   "source": [
    "**Step 1: Write a function that can print out a board. Set up your board as a list, where each index 1-9 corresponds with a number on a number pad, so you get a 3 by 3 board representation.**"
   ]
  },
  {
   "cell_type": "code",
   "execution_count": 24,
   "id": "2375c5b0-bbf0-42bd-9d67-b84add27d9f6",
   "metadata": {},
   "outputs": [],
   "source": [
    "from IPython.display import clear_output\n",
    "\n",
    "def display_board(board):\n",
    "\n",
    "    print(f\" {board[1]} | {board[2]} | {board[3]}\")\n",
    "    print(\" ---------\")\n",
    "    print(f\" {board[4]} | {board[5]} | {board[6]}\")\n",
    "    print(\" ---------\")\n",
    "    print(f\" {board[7]} | {board[8]} | {board[9]}\")\n"
   ]
  },
  {
   "cell_type": "code",
   "execution_count": 25,
   "id": "f88baf71-ee2e-4955-86e4-2752afae6bf9",
   "metadata": {},
   "outputs": [
    {
     "name": "stdout",
     "output_type": "stream",
     "text": [
      " 1 | 2 | 3\n",
      " ---------\n",
      " 4 | 5 | 6\n",
      " ---------\n",
      " 7 | 8 | 9\n"
     ]
    }
   ],
   "source": [
    "myboard = ['#','1','2','3','4','5','6','7','8','9']\n",
    "display_board(myboard)"
   ]
  },
  {
   "cell_type": "code",
   "execution_count": null,
   "id": "eb5b1035-47af-41da-a0e0-d22576abe487",
   "metadata": {},
   "outputs": [],
   "source": []
  }
 ],
 "metadata": {
  "kernelspec": {
   "display_name": "Python 3 (ipykernel)",
   "language": "python",
   "name": "python3"
  },
  "language_info": {
   "codemirror_mode": {
    "name": "ipython",
    "version": 3
   },
   "file_extension": ".py",
   "mimetype": "text/x-python",
   "name": "python",
   "nbconvert_exporter": "python",
   "pygments_lexer": "ipython3",
   "version": "3.11.13"
  }
 },
 "nbformat": 4,
 "nbformat_minor": 5
}
