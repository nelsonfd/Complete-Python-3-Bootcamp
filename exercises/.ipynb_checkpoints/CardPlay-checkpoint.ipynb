{
 "cells": [
  {
   "cell_type": "markdown",
   "id": "30ec50a1-a660-4f65-acef-b2775d008d44",
   "metadata": {},
   "source": [
    "## Single Card Class\n",
    "\n",
    "### Creating a Card Class with outside variables\n",
    "\n",
    "Here we will use some outside variables that we know don't change regardless of the situation, such as a deck of cards. Regardless of what round,match, or game we're playing, we'll still need the same deck of cards."
   ]
  },
  {
   "cell_type": "code",
   "execution_count": 42,
   "id": "84b30d53-6eee-42b0-b7e8-7e8000437627",
   "metadata": {},
   "outputs": [],
   "source": [
    "from random import shuffle"
   ]
  },
  {
   "cell_type": "code",
   "execution_count": 43,
   "id": "b7f0f00c-6a57-49b1-bef3-5305c1504680",
   "metadata": {},
   "outputs": [],
   "source": [
    "suits = ('Hearts', 'Clubs', 'Diamonds', 'Spades')\n",
    "ranks = ('Ace', 'Two', 'Three', 'Four', 'Five', 'Six', 'Seven', 'Eight', 'Nine', 'Ten', 'Jack', 'Queen', 'King')\n",
    "values = {'Ace':1, 'Two':2, 'Three':3, 'Four':4, 'Five':5, 'Six':6, 'Seven':7, 'Eight':8, 'Nine':9, 'Ten':10, 'Jack':11, 'Queen':12, 'King':13}"
   ]
  },
  {
   "cell_type": "code",
   "execution_count": 44,
   "id": "2fdb91a5-2809-49ce-bae0-0ea750515612",
   "metadata": {},
   "outputs": [],
   "source": [
    "class Card():\n",
    "\n",
    "    def __init__(self, suit, rank):\n",
    "        self.suit = suit\n",
    "        self.rank = rank\n",
    "        self.value = values[rank]\n",
    "\n",
    "    def __str__(self):\n",
    "        return f\"{self.rank} of {self.suit}\""
   ]
  },
  {
   "cell_type": "code",
   "execution_count": 45,
   "id": "81ad065d-24c0-4d72-824d-5c5620f9acb3",
   "metadata": {},
   "outputs": [
    {
     "name": "stdout",
     "output_type": "stream",
     "text": [
      "Queen of Hearts\n"
     ]
    }
   ],
   "source": [
    "print(Card(\"Hearts\", \"Queen\"))"
   ]
  },
  {
   "cell_type": "code",
   "execution_count": 46,
   "id": "72f6a033-1be2-4d91-b453-4ed26e479dd5",
   "metadata": {},
   "outputs": [],
   "source": [
    "card_suit = Card(suits[3], ranks[0])"
   ]
  },
  {
   "cell_type": "code",
   "execution_count": 47,
   "id": "21180949-13a3-4cce-b1ae-efb003b5439d",
   "metadata": {},
   "outputs": [
    {
     "data": {
      "text/plain": [
       "<__main__.Card at 0x10ee8ef10>"
      ]
     },
     "execution_count": 47,
     "metadata": {},
     "output_type": "execute_result"
    }
   ],
   "source": [
    "card_suit"
   ]
  },
  {
   "cell_type": "code",
   "execution_count": 48,
   "id": "29c05f06-d2e3-4e1f-af84-f0c5b371500b",
   "metadata": {},
   "outputs": [
    {
     "name": "stdout",
     "output_type": "stream",
     "text": [
      "Ace of Spades\n"
     ]
    }
   ],
   "source": [
    "print(card_suit)"
   ]
  },
  {
   "cell_type": "code",
   "execution_count": null,
   "id": "25110efe-33d9-41d6-a94a-0560150c6f19",
   "metadata": {},
   "outputs": [],
   "source": []
  },
  {
   "cell_type": "markdown",
   "id": "9e557ff9-8f71-4619-a76e-d56742ebbb81",
   "metadata": {},
   "source": [
    "## Deck Class\n",
    "\n",
    "### Using a class within another class\n",
    "\n",
    "We just created a single card, but how can we create an entire Deck of cards? Let's explore doing this with a class that utilizes the Card class."
   ]
  },
  {
   "cell_type": "code",
   "execution_count": 49,
   "id": "90f34cb1-5f1e-4acf-9ab0-5935127b4edd",
   "metadata": {},
   "outputs": [],
   "source": [
    "class Deck():\n",
    "\n",
    "    def __init__(self):\n",
    "\n",
    "        self.all_cards = []\n",
    "\n",
    "        for suit in suits:\n",
    "            for rank in ranks:\n",
    "                self.all_cards.append(Card(suit, rank))\n",
    "\n",
    "    def shuffle(self):\n",
    "        shuffle(self.all_cards)\n",
    "\n",
    "    def deal_one(self):\n",
    "        return self.all_cards.pop()\n"
   ]
  },
  {
   "cell_type": "code",
   "execution_count": 50,
   "id": "d66b190e-b19d-4d59-8626-20983361fc0a",
   "metadata": {},
   "outputs": [],
   "source": [
    "cards = Deck()"
   ]
  },
  {
   "cell_type": "code",
   "execution_count": 51,
   "id": "80755b6c-d937-482c-b8f3-10a260f502b4",
   "metadata": {},
   "outputs": [
    {
     "data": {
      "text/plain": [
       "52"
      ]
     },
     "execution_count": 51,
     "metadata": {},
     "output_type": "execute_result"
    }
   ],
   "source": [
    "len(cards.all_cards)"
   ]
  },
  {
   "cell_type": "code",
   "execution_count": 52,
   "id": "f4969ca7-b194-4908-8c0a-bdfe552f0487",
   "metadata": {},
   "outputs": [
    {
     "name": "stdout",
     "output_type": "stream",
     "text": [
      "Ace of Hearts\n"
     ]
    }
   ],
   "source": [
    "print(cards.all_cards[0])"
   ]
  },
  {
   "cell_type": "code",
   "execution_count": 53,
   "id": "46e9ae91-6ef9-47f4-a414-d9f386b484ac",
   "metadata": {},
   "outputs": [
    {
     "name": "stdout",
     "output_type": "stream",
     "text": [
      "King of Spades\n"
     ]
    }
   ],
   "source": [
    "print(cards.all_cards[-1])"
   ]
  },
  {
   "cell_type": "code",
   "execution_count": 54,
   "id": "51c811d0-ed46-4c93-ada0-e7003bafbc40",
   "metadata": {},
   "outputs": [],
   "source": [
    "mydeck = cards.deal_one()"
   ]
  },
  {
   "cell_type": "code",
   "execution_count": 55,
   "id": "7eae1c2e-c1b3-46f8-8059-6429d5ba67b7",
   "metadata": {},
   "outputs": [
    {
     "name": "stdout",
     "output_type": "stream",
     "text": [
      "King of Spades\n"
     ]
    }
   ],
   "source": [
    "print(mydeck)"
   ]
  },
  {
   "cell_type": "code",
   "execution_count": null,
   "id": "27f5add8-ff24-4b22-bcde-33bdbe5bd8db",
   "metadata": {},
   "outputs": [],
   "source": []
  },
  {
   "cell_type": "code",
   "execution_count": null,
   "id": "fd57c51c-3a2d-447e-bff9-0dffb9446d98",
   "metadata": {},
   "outputs": [],
   "source": []
  },
  {
   "cell_type": "markdown",
   "id": "2e61bddd-7f57-4431-81ce-5e8b0d85f79f",
   "metadata": {},
   "source": [
    "# Player Class\n",
    "\n",
    "Let's create a Player Class, a player should be able to hold instances of Cards, they should also be able to remove and add them from their hand. We want the Player class to be flexible enough to add one card, or many cards so we'll use a simple if check to keep it all in the same method."
   ]
  },
  {
   "cell_type": "code",
   "execution_count": 56,
   "id": "e70f372e-024d-419c-b936-3eed42faf5d7",
   "metadata": {},
   "outputs": [],
   "source": [
    "class Player():\n",
    "\n",
    "    def __init__(self, name):\n",
    "        self.name = name\n",
    "        self.all_cards = []\n",
    "\n",
    "\n",
    "    def remove_one(self):\n",
    "        self.all_cards.pop(0)\n",
    "\n",
    "\n",
    "    def add_cards(self, new_cards):\n",
    "\n",
    "        if type(new_cards) == type([]):\n",
    "            self.all_cards.extend(new_cards)\n",
    "        else:\n",
    "            self.all_cards.append(new_cards)\n",
    "\n",
    "\n",
    "    def __str__(self):\n",
    "        return f\"Player {self.name} has {len(self.all_cards)} cards!\"\n",
    "\n",
    "        "
   ]
  },
  {
   "cell_type": "code",
   "execution_count": 57,
   "id": "515f28ff-329b-4d01-9def-5c1d6dc02d0c",
   "metadata": {},
   "outputs": [],
   "source": [
    "first_player = Player(\"Nelson\")"
   ]
  },
  {
   "cell_type": "code",
   "execution_count": 58,
   "id": "7b40c17e-88e9-41fd-9f6f-d43cd5636a4e",
   "metadata": {},
   "outputs": [
    {
     "name": "stdout",
     "output_type": "stream",
     "text": [
      "Player Nelson has 0 cards!\n"
     ]
    }
   ],
   "source": [
    "print(first_player)"
   ]
  },
  {
   "cell_type": "code",
   "execution_count": 59,
   "id": "24509fee-0341-4e3d-8e7b-516380041da9",
   "metadata": {},
   "outputs": [
    {
     "data": {
      "text/plain": [
       "<__main__.Player at 0x10ecb71d0>"
      ]
     },
     "execution_count": 59,
     "metadata": {},
     "output_type": "execute_result"
    }
   ],
   "source": [
    "first_player"
   ]
  },
  {
   "cell_type": "code",
   "execution_count": 60,
   "id": "cfc57234-c9ce-44b3-8d0f-0bd703469185",
   "metadata": {},
   "outputs": [],
   "source": [
    "first_player.add_cards(['Jack of Spades', 'Queen of Spades', 'Ace of Diamonds', 'King of Hearts', 'Jack of Clubs'])"
   ]
  },
  {
   "cell_type": "code",
   "execution_count": 61,
   "id": "c9ebbd2e-bce2-4753-9df8-0b5690ce313f",
   "metadata": {},
   "outputs": [],
   "source": [
    "first_player.remove_one()"
   ]
  },
  {
   "cell_type": "code",
   "execution_count": null,
   "id": "b8a9b2d9-5843-485d-a703-e10b1d22b739",
   "metadata": {},
   "outputs": [],
   "source": []
  },
  {
   "cell_type": "code",
   "execution_count": null,
   "id": "befab3f8-d55b-407f-b761-26b73b84cd39",
   "metadata": {},
   "outputs": [],
   "source": []
  },
  {
   "cell_type": "code",
   "execution_count": null,
   "id": "e225cabc-c639-4b60-8038-99aef4ddd7e6",
   "metadata": {},
   "outputs": [],
   "source": []
  },
  {
   "cell_type": "markdown",
   "id": "849a0a27-05b2-41c0-a983-5aa923ccc417",
   "metadata": {},
   "source": [
    "### Create Players\n",
    "### Create deck & shuffle\n",
    "### Split the deck"
   ]
  },
  {
   "cell_type": "code",
   "execution_count": 62,
   "id": "79dca258-3ea0-4e9a-a84a-8f844b9672be",
   "metadata": {},
   "outputs": [],
   "source": [
    "player_one = Player('Nelson')\n",
    "player_two = Player('Rachel')\n",
    "\n",
    "new_deck = Deck()\n",
    "new_deck.shuffle()\n",
    "\n",
    "for card in range(26):\n",
    "    player_one.add_cards(new_deck.deal_one())\n",
    "    player_two.add_cards(new_deck.deal_one())"
   ]
  },
  {
   "cell_type": "code",
   "execution_count": 63,
   "id": "96a0ea38-3678-42fb-bd15-4d8b2479225e",
   "metadata": {},
   "outputs": [
    {
     "data": {
      "text/plain": [
       "26"
      ]
     },
     "execution_count": 63,
     "metadata": {},
     "output_type": "execute_result"
    }
   ],
   "source": [
    "len(player_one.all_cards)"
   ]
  },
  {
   "cell_type": "code",
   "execution_count": 67,
   "id": "a1a0b1e9-be8f-42ca-a8a9-e3215d52715b",
   "metadata": {},
   "outputs": [
    {
     "name": "stdout",
     "output_type": "stream",
     "text": [
      "Round 1\n"
     ]
    },
    {
     "ename": "AttributeError",
     "evalue": "'NoneType' object has no attribute 'value'",
     "output_type": "error",
     "traceback": [
      "\u001b[31m---------------------------------------------------------------------------\u001b[39m",
      "\u001b[31mAttributeError\u001b[39m                            Traceback (most recent call last)",
      "\u001b[36mCell\u001b[39m\u001b[36m \u001b[39m\u001b[32mIn[67]\u001b[39m\u001b[32m, line 32\u001b[39m\n\u001b[32m     28\u001b[39m at_war = \u001b[38;5;28;01mTrue\u001b[39;00m\n\u001b[32m     30\u001b[39m \u001b[38;5;28;01mwhile\u001b[39;00m at_war:\n\u001b[32m---> \u001b[39m\u001b[32m32\u001b[39m     \u001b[38;5;28;01mif\u001b[39;00m \u001b[43mplayer_one_cards\u001b[49m\u001b[43m[\u001b[49m\u001b[43m-\u001b[49m\u001b[32;43m1\u001b[39;49m\u001b[43m]\u001b[49m\u001b[43m.\u001b[49m\u001b[43mvalue\u001b[49m > player_two_cards[-\u001b[32m1\u001b[39m].value:\n\u001b[32m     33\u001b[39m         player_one.add_cards(player_one_cards)\n\u001b[32m     34\u001b[39m         player_one.add_cards(player_two_cards)\n",
      "\u001b[31mAttributeError\u001b[39m: 'NoneType' object has no attribute 'value'"
     ]
    }
   ],
   "source": [
    "game_on = True\n",
    "round_num = 0\n",
    "while game_on:\n",
    "    \n",
    "    round_num += 1\n",
    "    print(f\"Round {round_num}\")\n",
    "\n",
    "    if len(player_one.all_cards) == 0:\n",
    "        print(f\"Player {player_one} has run out of cards. {player_two} wins!!!\")\n",
    "        game_on = False\n",
    "        break\n",
    "    elif len(player_two.all_cards) == 0:\n",
    "        print(f\"Player {player_two} has run out of cards. {player_one} wins!!!\")\n",
    "        game_on = False\n",
    "        break\n",
    "    else:\n",
    "        pass\n",
    "\n",
    "    #Start new round\n",
    "\n",
    "    player_one_cards = []\n",
    "    player_one_cards.append(player_one.remove_one())\n",
    "\n",
    "    player_two_cards = []\n",
    "    player_two_cards.append(player_two.remove_one())\n",
    "\n",
    "\n",
    "    at_war = True\n",
    "\n",
    "    while at_war:\n",
    "\n",
    "        if player_one_cards[-1].value > player_two_cards[-1].value:\n",
    "            player_one.add_cards(player_one_cards)\n",
    "            player_one.add_cards(player_two_cards)\n",
    "\n",
    "            at_war = False\n",
    "            \n",
    "        elif player_two_cards[-1].value > player_one_cards[-1].value:\n",
    "            player_two.add_cards(player_one_cards)\n",
    "            player_two.add_cards(player_two_cards)\n",
    "\n",
    "            at_war = False\n",
    "\n",
    "        else:\n",
    "            print('WAR!')\n",
    "  \n",
    "            if len(player_one.all_cards) < 5:\n",
    "                print(\"Player One unable to play war! Game Over at War\")\n",
    "                print(\"Player Two Wins! Player One Loses!\")\n",
    "                game_on = False\n",
    "                break\n",
    "\n",
    "            elif len(player_two.all_cards) < 5:\n",
    "                print(\"Player Two unable to play war! Game Over at War\")\n",
    "                print(\"Player One Wins! Player One Loses!\")\n",
    "                game_on = False\n",
    "                break\n",
    "            # Otherwise, we're still at war, so we'll add the next cards\n",
    "            else:\n",
    "                for num in range(5):\n",
    "                    player_one_cards.append(player_one.remove_one())\n",
    "                    player_two_cards.append(player_two.remove_one())\n",
    "\n",
    "        "
   ]
  },
  {
   "cell_type": "code",
   "execution_count": 79,
   "id": "ef9d5373-4bb5-427d-8fba-c55b7e687a27",
   "metadata": {},
   "outputs": [],
   "source": [
    "player_one_cards = []\n",
    "player_one_cards.append(player_one.remove_one())"
   ]
  },
  {
   "cell_type": "code",
   "execution_count": 80,
   "id": "f9fd3e1c-d7e7-4f90-b934-6634bad847f3",
   "metadata": {},
   "outputs": [
    {
     "ename": "AttributeError",
     "evalue": "'NoneType' object has no attribute 'value'",
     "output_type": "error",
     "traceback": [
      "\u001b[31m---------------------------------------------------------------------------\u001b[39m",
      "\u001b[31mAttributeError\u001b[39m                            Traceback (most recent call last)",
      "\u001b[36mCell\u001b[39m\u001b[36m \u001b[39m\u001b[32mIn[80]\u001b[39m\u001b[32m, line 1\u001b[39m\n\u001b[32m----> \u001b[39m\u001b[32m1\u001b[39m \u001b[38;5;28mprint\u001b[39m(\u001b[43mplayer_one_cards\u001b[49m\u001b[43m[\u001b[49m\u001b[43m-\u001b[49m\u001b[32;43m1\u001b[39;49m\u001b[43m]\u001b[49m\u001b[43m.\u001b[49m\u001b[43mvalue\u001b[49m)\n",
      "\u001b[31mAttributeError\u001b[39m: 'NoneType' object has no attribute 'value'"
     ]
    }
   ],
   "source": [
    "print(player_one_cards[-1].value)"
   ]
  },
  {
   "cell_type": "code",
   "execution_count": null,
   "id": "8906bc79-8f39-4a2b-952a-f258b473c37d",
   "metadata": {},
   "outputs": [],
   "source": []
  }
 ],
 "metadata": {
  "kernelspec": {
   "display_name": "Python 3 (ipykernel)",
   "language": "python",
   "name": "python3"
  },
  "language_info": {
   "codemirror_mode": {
    "name": "ipython",
    "version": 3
   },
   "file_extension": ".py",
   "mimetype": "text/x-python",
   "name": "python",
   "nbconvert_exporter": "python",
   "pygments_lexer": "ipython3",
   "version": "3.11.13"
  }
 },
 "nbformat": 4,
 "nbformat_minor": 5
}
